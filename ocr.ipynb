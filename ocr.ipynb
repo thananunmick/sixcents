{
 "cells": [
  {
   "cell_type": "code",
   "execution_count": 3,
   "id": "ff741db2",
   "metadata": {},
   "outputs": [
    {
     "name": "stdout",
     "output_type": "stream",
     "text": [
      "Requirement already satisfied: pytesseract in c:\\users\\admin\\anaconda3\\envs\\ocr\\lib\\site-packages (0.3.8)\n",
      "Requirement already satisfied: Pillow in c:\\users\\admin\\anaconda3\\envs\\ocr\\lib\\site-packages (from pytesseract) (8.4.0)\n",
      "Requirement already satisfied: opencv-python in c:\\users\\admin\\anaconda3\\envs\\ocr\\lib\\site-packages (4.5.4.58)\n",
      "Requirement already satisfied: numpy>=1.19.3 in c:\\users\\admin\\anaconda3\\envs\\ocr\\lib\\site-packages (from opencv-python) (1.21.3)\n"
     ]
    }
   ],
   "source": [
    "!pip install pytesseract\n",
    "!pip install opencv-python"
   ]
  },
  {
   "cell_type": "code",
   "execution_count": 15,
   "id": "7718b1b6",
   "metadata": {},
   "outputs": [],
   "source": [
    "from PIL import Image\n",
    "import pytesseract\n",
    "import cv2\n",
    "import io\n",
    "import numpy as np\n",
    "import string"
   ]
  },
  {
   "cell_type": "code",
   "execution_count": 5,
   "id": "132c0e0e",
   "metadata": {},
   "outputs": [],
   "source": [
    "pytesseract.pytesseract.tesseract_cmd = r'C:\\Program Files\\Tesseract-OCR\\tesseract.exe'"
   ]
  },
  {
   "cell_type": "code",
   "execution_count": 6,
   "id": "afdedcff",
   "metadata": {},
   "outputs": [],
   "source": [
    "def ocr_core(filename):\n",
    "    text = pytesseract.image_to_string(Image.open(filename))\n",
    "    return text"
   ]
  },
  {
   "cell_type": "code",
   "execution_count": 19,
   "id": "59973b5e",
   "metadata": {},
   "outputs": [],
   "source": [
    "def preprocess_text(message):\n",
    "    PUNCT_TO_REMOVE = string.punctuation\n",
    "    text = message.lower().translate(str.maketrans('', '', PUNCT_TO_REMOVE))\n",
    "    return text"
   ]
  },
  {
   "cell_type": "code",
   "execution_count": 20,
   "id": "a8b50429",
   "metadata": {},
   "outputs": [],
   "source": [
    "text = ocr_core(r\"uploads/t3qWG.png\")"
   ]
  },
  {
   "cell_type": "code",
   "execution_count": 21,
   "id": "9265734a",
   "metadata": {},
   "outputs": [],
   "source": [
    "text = preprocess_text(text)"
   ]
  },
  {
   "cell_type": "code",
   "execution_count": 32,
   "id": "d2815a37",
   "metadata": {},
   "outputs": [
    {
     "data": {
      "text/plain": [
       "'adobe the adobe logo acrobat the acrobat logo acrobat capture adobe garamond adobeintelligent document platform adobe pdf adobe reader adobe solutions network aldus distiller epaper extreme framemaker illustrator indesign minion myriad pagemaker photoshop poetica postscript and xmp are either registered trademarks or trademarks of adobe‘systems incorporated in the united states andor other countries microsoft and windows areeither registered trademarks or trademarks of microsoft corporation in the united states andorother countries apple mac macintosh and power macintosh are trademarks of apple computerinc registered in the united states and other countries ibm is a registered trademark of ibmcorporation in the united states sun is a trademark or registered trademark of sun microsystems inc in the united states and other countries unix is a registered trademark of the opengroup svg is a trademark of the world wide web consortium marks of the w3c are registeredand held by its hostinstitutionsmit inria and keio helvetica and times are registered trademarks of linotypehell ag andor its subsidiaries arial and times new roman are trademarks of‘the monotype corporation registered in the us patent and trademark office and may be registered in certain other jurisdictions itc zapf dingbats is a registered trademark of international‘typeface corporation ryumin light is a trademark of morisawa  co ltd all other trademarksare the property of their respective owners'"
      ]
     },
     "execution_count": 32,
     "metadata": {},
     "output_type": "execute_result"
    }
   ],
   "source": [
    "text.strip().replace(\"\\n\", \"\")"
   ]
  },
  {
   "cell_type": "code",
   "execution_count": 36,
   "id": "c1df01cd",
   "metadata": {},
   "outputs": [],
   "source": [
    "import re"
   ]
  },
  {
   "cell_type": "code",
   "execution_count": 38,
   "id": "2d57aeb0",
   "metadata": {},
   "outputs": [
    {
     "name": "stdout",
     "output_type": "stream",
     "text": [
      "adobe the adobe logo acrobat the acrobat logo acrobat capture adobe garamond adobe intelligent document platform adobe pdf adobe reader adobe solutions network aldus dis tiller epaper extreme framemaker illustrator indesign minion myriad pagemaker photo shop poetica postscript and xmp are either registered trademarks or trademarks of adobe systems incorporated in the united states andor other countries microsoft and windows are either registered trademarks or trademarks of microsoft corporation in the united states andor other countries apple mac macintosh and power macintosh are trademarks of apple computer inc registered in the united states and other countries ibm is a registered trademark of ibm corporation in the united states sun is a trademark or registered trademark of sun microsys tems inc in the united states and other countries unix is a registered trademark of the open group svg is a trademark of the world wide web consortium marks of the are registered and held by its hostinstitutionsmit inria and keio helvetica and times are registered trade marks of linotypehell ag andor its subsidiaries arial and times new roman are trademarks of the monotype corporation registered in the us patent and trademark office and may be regis tered in certain other jurisdictions itc zapf dingbats is a registered trademark of international typeface corporation ryumin light is a trademark of morisawa co ltd all other trademarks are the property of their respective owners\n"
     ]
    }
   ],
   "source": [
    "result = re.findall(r\"(?i)\\b[a-z]+\\b\", text)\n",
    "print(\" \".join(result))"
   ]
  },
  {
   "cell_type": "code",
   "execution_count": null,
   "id": "fcb30746",
   "metadata": {},
   "outputs": [],
   "source": []
  }
 ],
 "metadata": {
  "kernelspec": {
   "display_name": "Python 3 (ipykernel)",
   "language": "python",
   "name": "python3"
  },
  "language_info": {
   "codemirror_mode": {
    "name": "ipython",
    "version": 3
   },
   "file_extension": ".py",
   "mimetype": "text/x-python",
   "name": "python",
   "nbconvert_exporter": "python",
   "pygments_lexer": "ipython3",
   "version": "3.9.7"
  }
 },
 "nbformat": 4,
 "nbformat_minor": 5
}
